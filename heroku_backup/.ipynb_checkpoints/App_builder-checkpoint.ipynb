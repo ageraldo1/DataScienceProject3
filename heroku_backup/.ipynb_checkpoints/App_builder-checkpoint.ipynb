{
 "cells": [
  {
   "cell_type": "markdown",
   "metadata": {},
   "source": [
    "# Data Dictionary:\n",
    "\n",
    "INDUSTRY\n",
    "AGE\n",
    "RACE\n",
    "SEX\n",
    "INCTOT\n",
    "EMPSTAT - employmentsatus\n",
    "PWSTATE2\n"
   ]
  },
  {
   "cell_type": "code",
   "execution_count": 2,
   "metadata": {},
   "outputs": [],
   "source": [
    "import sqlite3\n",
    "from flask import Flask, jsonify, render_template\n",
    "from datetime import datetime as dt\n",
    "import pandas as pd\n",
    "import numpy as np"
   ]
  },
  {
   "cell_type": "code",
   "execution_count": 3,
   "metadata": {},
   "outputs": [
    {
     "data": {
      "text/plain": [
       "[1900,\n",
       " 1910,\n",
       " 1920,\n",
       " 1930,\n",
       " 1940,\n",
       " 1950,\n",
       " 1960,\n",
       " 1970,\n",
       " 1980,\n",
       " 1990,\n",
       " 2000,\n",
       " 2010,\n",
       " 2015,\n",
       " 2017]"
      ]
     },
     "execution_count": 3,
     "metadata": {},
     "output_type": "execute_result"
    }
   ],
   "source": [
    "conn = sqlite3.connect(\"./data/Indsauto.db\")\n",
    "cur = conn.cursor()\n",
    "cur.execute(\"SELECT DISTINCT years FROM MacTrans ORDER BY years\")\n",
    "results=cur.fetchall()\n",
    "year_list=[]\n",
    "for result in results:\n",
    "    year_list.append(result[0])\n",
    "    \n",
    "year_list"
   ]
  },
  {
   "cell_type": "code",
   "execution_count": 4,
   "metadata": {},
   "outputs": [
    {
     "data": {
      "text/plain": [
       "['Population',\n",
       " 'Income',\n",
       " 'E0%',\n",
       " 'E1%',\n",
       " 'E2%',\n",
       " 'E3%',\n",
       " 'E0',\n",
       " 'E1',\n",
       " 'E2',\n",
       " 'E3',\n",
       " 'Age',\n",
       " 'R0%',\n",
       " 'R1%',\n",
       " 'R2%',\n",
       " 'R3%',\n",
       " 'R4%',\n",
       " 'R5%',\n",
       " 'R0',\n",
       " 'R1',\n",
       " 'R2',\n",
       " 'R3',\n",
       " 'R4',\n",
       " 'R5',\n",
       " 'Female%',\n",
       " 'Male%',\n",
       " 'Employment%',\n",
       " 'Employment']"
      ]
     },
     "execution_count": 4,
     "metadata": {},
     "output_type": "execute_result"
    }
   ],
   "source": [
    "conn = sqlite3.connect(\"./data/Indsauto.db\")\n",
    "cur = conn.cursor()\n",
    "cur.execute(\"SELECT * FROM MacCat\")\n",
    "results=cur.fetchall()\n",
    "year_list=[]\n",
    "for result in results:\n",
    "    year_list.append(result[0])\n",
    "    \n",
    "year_list"
   ]
  },
  {
   "cell_type": "code",
   "execution_count": 18,
   "metadata": {},
   "outputs": [
    {
     "data": {
      "text/plain": [
       "1985"
      ]
     },
     "execution_count": 18,
     "metadata": {},
     "output_type": "execute_result"
    }
   ],
   "source": [
    "results[0][0]"
   ]
  },
  {
   "cell_type": "code",
   "execution_count": 36,
   "metadata": {},
   "outputs": [
    {
     "data": {
      "text/plain": [
       "[{'state': 'GA',\n",
       "  'industry': 'Manufacturing',\n",
       "  'year': 1985,\n",
       "  'total_population': 9000,\n",
       "  'education': 'Colelge Graduate',\n",
       "  'income': 97000},\n",
       " {'state': 'NY',\n",
       "  'industry': 'Mining',\n",
       "  'year': 1990,\n",
       "  'total_population': 123123,\n",
       "  'education': 'Highscool',\n",
       "  'income': 128000}]"
      ]
     },
     "execution_count": 36,
     "metadata": {},
     "output_type": "execute_result"
    }
   ],
   "source": [
    "conn = sqlite3.connect(\"./data/mockdata.sqlite\")\n",
    "cur = conn.cursor()\n",
    "cur.execute(\"SELECT state, Industry,year,total_pop,education,income,pct_urb FROM mockdata GROUP BY state\")\n",
    "results=cur.fetchall()\n",
    "states_group=[]\n",
    "for result in results:\n",
    "    states_group.append(dict(state=result[0],industry=result[1],year=result[2],total_population=result[3],education=result[4],income=result[5]))\n",
    "\n",
    "states_group"
   ]
  },
  {
   "cell_type": "code",
   "execution_count": 27,
   "metadata": {},
   "outputs": [
    {
     "data": {
      "text/plain": [
       "[('GA', 'Manufacturing', 1985, 9000, 'Colelge Graduate', 97000, '43%'),\n",
       " ('NY', 'Mining', 1990, 123123, 'Highscool', 128000, '75%')]"
      ]
     },
     "execution_count": 27,
     "metadata": {},
     "output_type": "execute_result"
    }
   ],
   "source": [
    "results"
   ]
  },
  {
   "cell_type": "code",
   "execution_count": null,
   "metadata": {},
   "outputs": [],
   "source": []
  },
  {
   "cell_type": "markdown",
   "metadata": {},
   "source": [
    "# Data Needed\n",
    "\n",
    "year\n",
    "count(people)\n",
    "\n",
    "\n",
    "coount gruped by industry and year"
   ]
  },
  {
   "cell_type": "code",
   "execution_count": 33,
   "metadata": {},
   "outputs": [
    {
     "data": {
      "text/plain": [
       "[]"
      ]
     },
     "execution_count": 33,
     "metadata": {},
     "output_type": "execute_result"
    }
   ],
   "source": [
    "conn = sqlite3.connect(\"./data//mockdata.sqlite\")\n",
    "cur = conn.cursor()\n",
    "cur.execute(\"SELECT count(total_pop) AS Jobs, Industry,year FROM mockdata GROUP BY Industry,year\")\n",
    "results=cur.fetchall()\n",
    "time_group=[]\n",
    "for result in results:\n",
    "    states_group.append(dict(jobs=result[0],industry=result[1],year=result[2]))\n",
    "\n",
    "time_group"
   ]
  },
  {
   "cell_type": "code",
   "execution_count": 34,
   "metadata": {},
   "outputs": [
    {
     "data": {
      "text/plain": [
       "[(1, 'Manufacturing', 1985), (1, 'Mining', 1990)]"
      ]
     },
     "execution_count": 34,
     "metadata": {},
     "output_type": "execute_result"
    }
   ],
   "source": [
    "results"
   ]
  },
  {
   "cell_type": "markdown",
   "metadata": {},
   "source": [
    "# Manufacturing and education level"
   ]
  },
  {
   "cell_type": "code",
   "execution_count": null,
   "metadata": {},
   "outputs": [],
   "source": [
    "conn = sqlite3.connect(\"./data//mockdata.sqlite\")\n",
    "cur = conn.cursor()\n",
    "cur.execute(\"SELECT count(total_pop) AS Jobs, Industry,year FROM mockdata GROUP BY Industry,year\")\n",
    "results=cur.fetchall()\n",
    "time_group=[]\n",
    "for result in results:\n",
    "    states_group.append(dict(jobs=result[0],industry=result[1],year=result[2]))\n",
    "\n",
    "time_group"
   ]
  },
  {
   "cell_type": "markdown",
   "metadata": {},
   "source": [
    "# Range"
   ]
  },
  {
   "cell_type": "code",
   "execution_count": 38,
   "metadata": {},
   "outputs": [],
   "source": [
    "start=1985\n",
    "end=2000"
   ]
  },
  {
   "cell_type": "code",
   "execution_count": 39,
   "metadata": {},
   "outputs": [],
   "source": [
    "\n",
    "\n",
    "conn = sqlite3.connect(\"./data//mockdata.sqlite\")\n",
    "cur = conn.cursor()\n",
    "cur.execute(f\"SELECT total_pop, year FROM mockdata WHERE year >= {start} and year <= {end} ;\")\n",
    "results=cur.fetchall()\n",
    "range_group=[]\n",
    "for result in results:\n",
    "    range_group.append(dict(jobs=result[0],year=result[1]))"
   ]
  },
  {
   "cell_type": "code",
   "execution_count": 40,
   "metadata": {},
   "outputs": [
    {
     "data": {
      "text/plain": [
       "[{'jobs': 9000, 'year': 1985}, {'jobs': 123123, 'year': 1990}]"
      ]
     },
     "execution_count": 40,
     "metadata": {},
     "output_type": "execute_result"
    }
   ],
   "source": [
    "range_group"
   ]
  },
  {
   "cell_type": "markdown",
   "metadata": {},
   "source": [
    "# Real Data"
   ]
  },
  {
   "cell_type": "markdown",
   "metadata": {},
   "source": [
    "/timespan"
   ]
  },
  {
   "cell_type": "code",
   "execution_count": 5,
   "metadata": {},
   "outputs": [
    {
     "data": {
      "text/plain": [
       "['1950', '1960', '1970', '1980', '1990', '2000', '2010', '2015', '2017']"
      ]
     },
     "execution_count": 5,
     "metadata": {},
     "output_type": "execute_result"
    }
   ],
   "source": [
    "conn = sqlite3.connect(\"./data/Project3.db\")\n",
    "cur = conn.cursor()\n",
    "cur.execute(\"SELECT DISTINCT Year FROM Employ ORDER BY year\")\n",
    "results=cur.fetchall()\n",
    "year_list=[]\n",
    "for result in results:\n",
    "    year_list.append(result[0])\n",
    "    \n",
    "year_list"
   ]
  },
  {
   "cell_type": "markdown",
   "metadata": {},
   "source": [
    "/bubble_graph"
   ]
  },
  {
   "cell_type": "code",
   "execution_count": 9,
   "metadata": {},
   "outputs": [
    {
     "data": {
      "text/plain": [
       "{'year': '1950',\n",
       " 'industry_sid': '1',\n",
       " 'median_age': '39',\n",
       " 'jobs_number': '20956',\n",
       " 'median_income': '950'}"
      ]
     },
     "execution_count": 9,
     "metadata": {},
     "output_type": "execute_result"
    }
   ],
   "source": [
    "conn = sqlite3.connect(\"./data/Project3.db\")\n",
    "cur = conn.cursor()\n",
    "cur.execute(\"SELECT Income.Year, Income.Ind, Age.Age, Income.obs, Income.Income FROM Income , Age WHERE Age.ind=Income.ind AND Age.Year=Income.Year;\")\n",
    "results=cur.fetchall()\n",
    "bubble_group=[]\n",
    "for result in results:\n",
    "    bubble_group.append(dict(year=result[0],industry_sid=result[1],median_age=result[2],jobs_number=result[3],median_income=result[4]))\n",
    "\n",
    "bubble_group[0]\n"
   ]
  },
  {
   "cell_type": "markdown",
   "metadata": {},
   "source": [
    "/chloropleth"
   ]
  },
  {
   "cell_type": "code",
   "execution_count": 10,
   "metadata": {},
   "outputs": [],
   "source": [
    "# conn = sqlite3.connect(\"./data/Project3.db\")\n",
    "# cur = conn.cursor()"
   ]
  },
  {
   "cell_type": "markdown",
   "metadata": {},
   "source": [
    "/education_data"
   ]
  },
  {
   "cell_type": "code",
   "execution_count": 12,
   "metadata": {},
   "outputs": [
    {
     "data": {
      "text/plain": [
       "[('1', '71060', '0'),\n",
       " ('1', '19361', '1'),\n",
       " ('1', '874', '2'),\n",
       " ('1', '119', '3'),\n",
       " ('2', '134518', '0'),\n",
       " ('2', '41402', '1'),\n",
       " ('2', '4195', '2'),\n",
       " ('2', '500', '3'),\n",
       " ('3', '39594', '0'),\n",
       " ('3', '13797', '1'),\n",
       " ('3', '1254', '2'),\n",
       " ('3', '119', '3'),\n",
       " ('4', '31516', '0'),\n",
       " ('4', '6420', '1'),\n",
       " ('4', '5651', '2'),\n",
       " ('4', '2872', '3'),\n",
       " ('5', '19160', '0'),\n",
       " ('5', '7144', '1'),\n",
       " ('5', '1901', '2'),\n",
       " ('5', '362', '3')]"
      ]
     },
     "execution_count": 12,
     "metadata": {},
     "output_type": "execute_result"
    }
   ],
   "source": [
    "conn = sqlite3.connect(\"./data/Project3.db\")\n",
    "cur = conn.cursor()\n",
    "cur.execute(f\"SELECT Ind, Obs, Education FROM Education WHERE Year=1950;\")\n",
    "results=cur.fetchall()\n",
    "if result"
   ]
  },
  {
   "cell_type": "code",
   "execution_count": null,
   "metadata": {},
   "outputs": [],
   "source": [
    "conn = sqlite3.connect(\"./data/Project3.db\")\n",
    "cur = conn.cursor()\n",
    "cur.execute(\"SELECT Obs, sex FROM allsex WHERE Year='1950' AND Ind='1';\")\n",
    "results=cur.fecthall()"
   ]
  }
 ],
 "metadata": {
  "kernelspec": {
   "display_name": "Python 3",
   "language": "python",
   "name": "python3"
  },
  "language_info": {
   "codemirror_mode": {
    "name": "ipython",
    "version": 3
   },
   "file_extension": ".py",
   "mimetype": "text/x-python",
   "name": "python",
   "nbconvert_exporter": "python",
   "pygments_lexer": "ipython3",
   "version": "3.7.2"
  }
 },
 "nbformat": 4,
 "nbformat_minor": 2
}
