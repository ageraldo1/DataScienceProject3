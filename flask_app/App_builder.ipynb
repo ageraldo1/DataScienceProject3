{
 "cells": [
  {
   "cell_type": "code",
   "execution_count": 1,
   "metadata": {},
   "outputs": [],
   "source": [
    "import sqlite3\n",
    "from flask import Flask, jsonify, render_template\n",
    "from datetime import datetime as dt\n",
    "import pandas as pd\n",
    "import numpy as np"
   ]
  },
  {
   "cell_type": "code",
   "execution_count": 19,
   "metadata": {},
   "outputs": [
    {
     "data": {
      "text/plain": [
       "[1985, 1990]"
      ]
     },
     "execution_count": 19,
     "metadata": {},
     "output_type": "execute_result"
    }
   ],
   "source": [
    "conn = sqlite3.connect(\"./mockdata.sqlite\")\n",
    "cur = conn.cursor()\n",
    "cur.execute(\"SELECT DISTINCT year FROM mockdata ORDER BY year\")\n",
    "results=cur.fetchall()\n",
    "year_list=[]\n",
    "for result in results:\n",
    "    year_list.append(result[0])\n",
    "    \n",
    "year_list"
   ]
  },
  {
   "cell_type": "code",
   "execution_count": 11,
   "metadata": {},
   "outputs": [
    {
     "ename": "OperationalError",
     "evalue": "near \"SHOW\": syntax error",
     "output_type": "error",
     "traceback": [
      "\u001b[0;31m---------------------------------------------------------------------------\u001b[0m",
      "\u001b[0;31mOperationalError\u001b[0m                          Traceback (most recent call last)",
      "\u001b[0;32m<ipython-input-11-79cc7f6f855c>\u001b[0m in \u001b[0;36m<module>\u001b[0;34m()\u001b[0m\n\u001b[0;32m----> 1\u001b[0;31m \u001b[0mcur\u001b[0m\u001b[0;34m.\u001b[0m\u001b[0mexecute\u001b[0m\u001b[0;34m(\u001b[0m\u001b[0;34m\"SHOW tables;\"\u001b[0m\u001b[0;34m)\u001b[0m\u001b[0;34m\u001b[0m\u001b[0;34m\u001b[0m\u001b[0m\n\u001b[0m\u001b[1;32m      2\u001b[0m \u001b[0mresults\u001b[0m\u001b[0;34m=\u001b[0m\u001b[0mcur\u001b[0m\u001b[0;34m.\u001b[0m\u001b[0mfetchall\u001b[0m\u001b[0;34m(\u001b[0m\u001b[0;34m)\u001b[0m\u001b[0;34m\u001b[0m\u001b[0;34m\u001b[0m\u001b[0m\n",
      "\u001b[0;31mOperationalError\u001b[0m: near \"SHOW\": syntax error"
     ]
    }
   ],
   "source": [
    "cur.execute(\"SHOW tables;\")\n",
    "results=cur.fetchall()\n"
   ]
  },
  {
   "cell_type": "code",
   "execution_count": 18,
   "metadata": {},
   "outputs": [
    {
     "data": {
      "text/plain": [
       "1985"
      ]
     },
     "execution_count": 18,
     "metadata": {},
     "output_type": "execute_result"
    }
   ],
   "source": [
    "results[0][0]"
   ]
  },
  {
   "cell_type": "code",
   "execution_count": 26,
   "metadata": {},
   "outputs": [
    {
     "data": {
      "text/plain": [
       "[{'state': 'GA',\n",
       "  'industry': 'Manufacturing',\n",
       "  'year': 1985,\n",
       "  'total_population': 9000,\n",
       "  'income': 'Colelge Graduate',\n",
       "  'pct_urban': 97000},\n",
       " {'state': 'NY',\n",
       "  'industry': 'Mining',\n",
       "  'year': 1990,\n",
       "  'total_population': 123123,\n",
       "  'income': 'Highscool',\n",
       "  'pct_urban': 128000}]"
      ]
     },
     "execution_count": 26,
     "metadata": {},
     "output_type": "execute_result"
    }
   ],
   "source": [
    "    conn = sqlite3.connect(\"./mockdata.sqlite\")\n",
    "    cur = conn.cursor()\n",
    "    cur.execute(\"SELECT state, Industry,year,total_pop,education,income,pct_urb FROM mockdata GROUP BY state\")\n",
    "    results=cur.fetchall()\n",
    "    states_group=[]\n",
    "    for result in results:\n",
    "        states_group.append(dict(state=result[0],industry=result[1],year=result[2],total_population=result[3],income=result[4],pct_urban=result[5]))\n",
    "\n",
    "    states_group"
   ]
  },
  {
   "cell_type": "code",
   "execution_count": 23,
   "metadata": {},
   "outputs": [
    {
     "data": {
      "text/plain": [
       "[('GA', 'Manufacturing', 1985, 9000, 'Colelge Graduate', 97000, '43%'),\n",
       " ('NY', 'Mining', 1990, 123123, 'Highscool', 128000, '75%')]"
      ]
     },
     "execution_count": 23,
     "metadata": {},
     "output_type": "execute_result"
    }
   ],
   "source": [
    "results"
   ]
  },
  {
   "cell_type": "code",
   "execution_count": null,
   "metadata": {},
   "outputs": [],
   "source": []
  }
 ],
 "metadata": {
  "kernelspec": {
   "display_name": "Python 3",
   "language": "python",
   "name": "python3"
  },
  "language_info": {
   "codemirror_mode": {
    "name": "ipython",
    "version": 3
   },
   "file_extension": ".py",
   "mimetype": "text/x-python",
   "name": "python",
   "nbconvert_exporter": "python",
   "pygments_lexer": "ipython3",
   "version": "3.7.2"
  }
 },
 "nbformat": 4,
 "nbformat_minor": 2
}
