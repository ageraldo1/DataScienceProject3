{
 "cells": [
  {
   "cell_type": "code",
   "execution_count": 1,
   "metadata": {},
   "outputs": [],
   "source": [
    "import sqlite3\n",
    "from flask import Flask, jsonify, render_template\n",
    "from datetime import datetime as dt\n",
    "import pandas as pd\n",
    "import numpy as np"
   ]
  },
  {
   "cell_type": "code",
   "execution_count": 19,
   "metadata": {},
   "outputs": [
    {
     "data": {
      "text/plain": [
       "[1985, 1990]"
      ]
     },
     "execution_count": 19,
     "metadata": {},
     "output_type": "execute_result"
    }
   ],
   "source": [
    "conn = sqlite3.connect(\"./mockdata.sqlite\")\n",
    "cur = conn.cursor()\n",
    "cur.execute(\"SELECT DISTINCT year FROM mockdata ORDER BY year\")\n",
    "results=cur.fetchall()\n",
    "year_list=[]\n",
    "for result in results:\n",
    "    year_list.append(result[0])\n",
    "    \n",
    "year_list"
   ]
  },
  {
   "cell_type": "code",
   "execution_count": null,
   "metadata": {},
   "outputs": [],
   "source": []
  },
  {
   "cell_type": "code",
   "execution_count": 18,
   "metadata": {},
   "outputs": [
    {
     "data": {
      "text/plain": [
       "1985"
      ]
     },
     "execution_count": 18,
     "metadata": {},
     "output_type": "execute_result"
    }
   ],
   "source": [
    "results[0][0]"
   ]
  },
  {
   "cell_type": "code",
   "execution_count": 36,
   "metadata": {},
   "outputs": [
    {
     "data": {
      "text/plain": [
       "[{'state': 'GA',\n",
       "  'industry': 'Manufacturing',\n",
       "  'year': 1985,\n",
       "  'total_population': 9000,\n",
       "  'education': 'Colelge Graduate',\n",
       "  'income': 97000},\n",
       " {'state': 'NY',\n",
       "  'industry': 'Mining',\n",
       "  'year': 1990,\n",
       "  'total_population': 123123,\n",
       "  'education': 'Highscool',\n",
       "  'income': 128000}]"
      ]
     },
     "execution_count": 36,
     "metadata": {},
     "output_type": "execute_result"
    }
   ],
   "source": [
    "conn = sqlite3.connect(\"./data/mockdata.sqlite\")\n",
    "cur = conn.cursor()\n",
    "cur.execute(\"SELECT state, Industry,year,total_pop,education,income,pct_urb FROM mockdata GROUP BY state\")\n",
    "results=cur.fetchall()\n",
    "states_group=[]\n",
    "for result in results:\n",
    "    states_group.append(dict(state=result[0],industry=result[1],year=result[2],total_population=result[3],education=result[4],income=result[5]))\n",
    "\n",
    "states_group"
   ]
  },
  {
   "cell_type": "code",
   "execution_count": 27,
   "metadata": {},
   "outputs": [
    {
     "data": {
      "text/plain": [
       "[('GA', 'Manufacturing', 1985, 9000, 'Colelge Graduate', 97000, '43%'),\n",
       " ('NY', 'Mining', 1990, 123123, 'Highscool', 128000, '75%')]"
      ]
     },
     "execution_count": 27,
     "metadata": {},
     "output_type": "execute_result"
    }
   ],
   "source": [
    "results"
   ]
  },
  {
   "cell_type": "code",
   "execution_count": null,
   "metadata": {},
   "outputs": [],
   "source": []
  },
  {
   "cell_type": "markdown",
   "metadata": {},
   "source": [
    "# Data Needed\n",
    "\n",
    "year\n",
    "count(people)\n",
    "\n",
    "\n",
    "coount gruped by industry and year"
   ]
  },
  {
   "cell_type": "code",
   "execution_count": 33,
   "metadata": {},
   "outputs": [
    {
     "data": {
      "text/plain": [
       "[]"
      ]
     },
     "execution_count": 33,
     "metadata": {},
     "output_type": "execute_result"
    }
   ],
   "source": [
    "conn = sqlite3.connect(\"./data//mockdata.sqlite\")\n",
    "cur = conn.cursor()\n",
    "cur.execute(\"SELECT count(total_pop) AS Jobs, Industry,year FROM mockdata GROUP BY Industry,year\")\n",
    "results=cur.fetchall()\n",
    "time_group=[]\n",
    "for result in results:\n",
    "    states_group.append(dict(jobs=result[0],industry=result[1],year=result[2]))\n",
    "\n",
    "time_group"
   ]
  },
  {
   "cell_type": "code",
   "execution_count": 34,
   "metadata": {},
   "outputs": [
    {
     "data": {
      "text/plain": [
       "[(1, 'Manufacturing', 1985), (1, 'Mining', 1990)]"
      ]
     },
     "execution_count": 34,
     "metadata": {},
     "output_type": "execute_result"
    }
   ],
   "source": [
    "results"
   ]
  },
  {
   "cell_type": "markdown",
   "metadata": {},
   "source": [
    "# Manufacturing and education level"
   ]
  },
  {
   "cell_type": "code",
   "execution_count": null,
   "metadata": {},
   "outputs": [],
   "source": [
    "conn = sqlite3.connect(\"./data//mockdata.sqlite\")\n",
    "cur = conn.cursor()\n",
    "cur.execute(\"SELECT count(total_pop) AS Jobs, Industry,year FROM mockdata GROUP BY Industry,year\")\n",
    "results=cur.fetchall()\n",
    "time_group=[]\n",
    "for result in results:\n",
    "    states_group.append(dict(jobs=result[0],industry=result[1],year=result[2]))\n",
    "\n",
    "time_group"
   ]
  },
  {
   "cell_type": "markdown",
   "metadata": {},
   "source": [
    "# Range"
   ]
  },
  {
   "cell_type": "code",
   "execution_count": 38,
   "metadata": {},
   "outputs": [],
   "source": [
    "start=1985\n",
    "end=2000"
   ]
  },
  {
   "cell_type": "code",
   "execution_count": 39,
   "metadata": {},
   "outputs": [],
   "source": [
    "\n",
    "\n",
    "conn = sqlite3.connect(\"./data//mockdata.sqlite\")\n",
    "cur = conn.cursor()\n",
    "cur.execute(f\"SELECT total_pop, year FROM mockdata WHERE year >= {start} and year <= {end} ;\")\n",
    "results=cur.fetchall()\n",
    "range_group=[]\n",
    "for result in results:\n",
    "    range_group.append(dict(jobs=result[0],year=result[1]))"
   ]
  },
  {
   "cell_type": "code",
   "execution_count": 40,
   "metadata": {},
   "outputs": [
    {
     "data": {
      "text/plain": [
       "[{'jobs': 9000, 'year': 1985}, {'jobs': 123123, 'year': 1990}]"
      ]
     },
     "execution_count": 40,
     "metadata": {},
     "output_type": "execute_result"
    }
   ],
   "source": [
    "range_group"
   ]
  },
  {
   "cell_type": "code",
   "execution_count": null,
   "metadata": {},
   "outputs": [],
   "source": []
  }
 ],
 "metadata": {
  "kernelspec": {
   "display_name": "Python 3",
   "language": "python",
   "name": "python3"
  },
  "language_info": {
   "codemirror_mode": {
    "name": "ipython",
    "version": 3
   },
   "file_extension": ".py",
   "mimetype": "text/x-python",
   "name": "python",
   "nbconvert_exporter": "python",
   "pygments_lexer": "ipython3",
   "version": "3.7.2"
  }
 },
 "nbformat": 4,
 "nbformat_minor": 2
}
