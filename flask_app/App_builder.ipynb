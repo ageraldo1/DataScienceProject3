{
 "cells": [
  {
   "cell_type": "markdown",
   "metadata": {},
   "source": [
    "# Data Dictionary:\n",
    "\n",
    "INDUSTRY\n",
    "AGE\n",
    "RACE\n",
    "SEX\n",
    "INCTOT\n",
    "EMPSTAT - employmentsatus\n",
    "PWSTATE2\n"
   ]
  },
  {
   "cell_type": "code",
   "execution_count": 2,
   "metadata": {},
   "outputs": [],
   "source": [
    "import sqlite3\n",
    "from flask import Flask, jsonify, render_template\n",
    "from datetime import datetime as dt\n",
    "import pandas as pd\n",
    "import numpy as np"
   ]
  },
  {
   "cell_type": "code",
   "execution_count": 3,
   "metadata": {},
   "outputs": [
    {
     "data": {
      "text/plain": [
       "[1900,\n",
       " 1910,\n",
       " 1920,\n",
       " 1930,\n",
       " 1940,\n",
       " 1950,\n",
       " 1960,\n",
       " 1970,\n",
       " 1980,\n",
       " 1990,\n",
       " 2000,\n",
       " 2010,\n",
       " 2015,\n",
       " 2017]"
      ]
     },
     "execution_count": 3,
     "metadata": {},
     "output_type": "execute_result"
    }
   ],
   "source": [
    "conn = sqlite3.connect(\"./data/Indsauto.db\")\n",
    "cur = conn.cursor()\n",
    "cur.execute(\"SELECT DISTINCT years FROM MacTrans ORDER BY years\")\n",
    "results=cur.fetchall()\n",
    "year_list=[]\n",
    "for result in results:\n",
    "    year_list.append(result[0])\n",
    "    \n",
    "year_list"
   ]
  },
  {
   "cell_type": "code",
   "execution_count": 4,
   "metadata": {},
   "outputs": [
    {
     "data": {
      "text/plain": [
       "['Population',\n",
       " 'Income',\n",
       " 'E0%',\n",
       " 'E1%',\n",
       " 'E2%',\n",
       " 'E3%',\n",
       " 'E0',\n",
       " 'E1',\n",
       " 'E2',\n",
       " 'E3',\n",
       " 'Age',\n",
       " 'R0%',\n",
       " 'R1%',\n",
       " 'R2%',\n",
       " 'R3%',\n",
       " 'R4%',\n",
       " 'R5%',\n",
       " 'R0',\n",
       " 'R1',\n",
       " 'R2',\n",
       " 'R3',\n",
       " 'R4',\n",
       " 'R5',\n",
       " 'Female%',\n",
       " 'Male%',\n",
       " 'Employment%',\n",
       " 'Employment']"
      ]
     },
     "execution_count": 4,
     "metadata": {},
     "output_type": "execute_result"
    }
   ],
   "source": [
    "conn = sqlite3.connect(\"./data/Indsauto.db\")\n",
    "cur = conn.cursor()\n",
    "cur.execute(\"SELECT * FROM MacCat\")\n",
    "results=cur.fetchall()\n",
    "year_list=[]\n",
    "for result in results:\n",
    "    year_list.append(result[0])\n",
    "    \n",
    "year_list"
   ]
  },
  {
   "cell_type": "code",
   "execution_count": 18,
   "metadata": {},
   "outputs": [
    {
     "data": {
      "text/plain": [
       "1985"
      ]
     },
     "execution_count": 18,
     "metadata": {},
     "output_type": "execute_result"
    }
   ],
   "source": [
    "results[0][0]"
   ]
  },
  {
   "cell_type": "code",
   "execution_count": 36,
   "metadata": {},
   "outputs": [
    {
     "data": {
      "text/plain": [
       "[{'state': 'GA',\n",
       "  'industry': 'Manufacturing',\n",
       "  'year': 1985,\n",
       "  'total_population': 9000,\n",
       "  'education': 'Colelge Graduate',\n",
       "  'income': 97000},\n",
       " {'state': 'NY',\n",
       "  'industry': 'Mining',\n",
       "  'year': 1990,\n",
       "  'total_population': 123123,\n",
       "  'education': 'Highscool',\n",
       "  'income': 128000}]"
      ]
     },
     "execution_count": 36,
     "metadata": {},
     "output_type": "execute_result"
    }
   ],
   "source": [
    "conn = sqlite3.connect(\"./data/mockdata.sqlite\")\n",
    "cur = conn.cursor()\n",
    "cur.execute(\"SELECT state, Industry,year,total_pop,education,income,pct_urb FROM mockdata GROUP BY state\")\n",
    "results=cur.fetchall()\n",
    "states_group=[]\n",
    "for result in results:\n",
    "    states_group.append(dict(state=result[0],industry=result[1],year=result[2],total_population=result[3],education=result[4],income=result[5]))\n",
    "\n",
    "states_group"
   ]
  },
  {
   "cell_type": "code",
   "execution_count": 27,
   "metadata": {},
   "outputs": [
    {
     "data": {
      "text/plain": [
       "[('GA', 'Manufacturing', 1985, 9000, 'Colelge Graduate', 97000, '43%'),\n",
       " ('NY', 'Mining', 1990, 123123, 'Highscool', 128000, '75%')]"
      ]
     },
     "execution_count": 27,
     "metadata": {},
     "output_type": "execute_result"
    }
   ],
   "source": [
    "results"
   ]
  },
  {
   "cell_type": "code",
   "execution_count": null,
   "metadata": {},
   "outputs": [],
   "source": []
  },
  {
   "cell_type": "markdown",
   "metadata": {},
   "source": [
    "# Data Needed\n",
    "\n",
    "year\n",
    "count(people)\n",
    "\n",
    "\n",
    "coount gruped by industry and year"
   ]
  },
  {
   "cell_type": "code",
   "execution_count": 33,
   "metadata": {},
   "outputs": [
    {
     "data": {
      "text/plain": [
       "[]"
      ]
     },
     "execution_count": 33,
     "metadata": {},
     "output_type": "execute_result"
    }
   ],
   "source": [
    "conn = sqlite3.connect(\"./data//mockdata.sqlite\")\n",
    "cur = conn.cursor()\n",
    "cur.execute(\"SELECT count(total_pop) AS Jobs, Industry,year FROM mockdata GROUP BY Industry,year\")\n",
    "results=cur.fetchall()\n",
    "time_group=[]\n",
    "for result in results:\n",
    "    states_group.append(dict(jobs=result[0],industry=result[1],year=result[2]))\n",
    "\n",
    "time_group"
   ]
  },
  {
   "cell_type": "code",
   "execution_count": 34,
   "metadata": {},
   "outputs": [
    {
     "data": {
      "text/plain": [
       "[(1, 'Manufacturing', 1985), (1, 'Mining', 1990)]"
      ]
     },
     "execution_count": 34,
     "metadata": {},
     "output_type": "execute_result"
    }
   ],
   "source": [
    "results"
   ]
  },
  {
   "cell_type": "markdown",
   "metadata": {},
   "source": [
    "# Manufacturing and education level"
   ]
  },
  {
   "cell_type": "code",
   "execution_count": null,
   "metadata": {},
   "outputs": [],
   "source": [
    "conn = sqlite3.connect(\"./data//mockdata.sqlite\")\n",
    "cur = conn.cursor()\n",
    "cur.execute(\"SELECT count(total_pop) AS Jobs, Industry,year FROM mockdata GROUP BY Industry,year\")\n",
    "results=cur.fetchall()\n",
    "time_group=[]\n",
    "for result in results:\n",
    "    states_group.append(dict(jobs=result[0],industry=result[1],year=result[2]))\n",
    "\n",
    "time_group"
   ]
  },
  {
   "cell_type": "markdown",
   "metadata": {},
   "source": [
    "# Range"
   ]
  },
  {
   "cell_type": "code",
   "execution_count": 38,
   "metadata": {},
   "outputs": [],
   "source": [
    "start=1985\n",
    "end=2000"
   ]
  },
  {
   "cell_type": "code",
   "execution_count": 39,
   "metadata": {},
   "outputs": [],
   "source": [
    "\n",
    "\n",
    "conn = sqlite3.connect(\"./data//mockdata.sqlite\")\n",
    "cur = conn.cursor()\n",
    "cur.execute(f\"SELECT total_pop, year FROM mockdata WHERE year >= {start} and year <= {end} ;\")\n",
    "results=cur.fetchall()\n",
    "range_group=[]\n",
    "for result in results:\n",
    "    range_group.append(dict(jobs=result[0],year=result[1]))"
   ]
  },
  {
   "cell_type": "code",
   "execution_count": 40,
   "metadata": {},
   "outputs": [
    {
     "data": {
      "text/plain": [
       "[{'jobs': 9000, 'year': 1985}, {'jobs': 123123, 'year': 1990}]"
      ]
     },
     "execution_count": 40,
     "metadata": {},
     "output_type": "execute_result"
    }
   ],
   "source": [
    "range_group"
   ]
  },
  {
   "cell_type": "markdown",
   "metadata": {},
   "source": [
    "# Real Data"
   ]
  },
  {
   "cell_type": "markdown",
   "metadata": {},
   "source": [
    "/timespan"
   ]
  },
  {
   "cell_type": "code",
   "execution_count": 5,
   "metadata": {},
   "outputs": [
    {
     "data": {
      "text/plain": [
       "['1950', '1960', '1970', '1980', '1990', '2000', '2010', '2015', '2017']"
      ]
     },
     "execution_count": 5,
     "metadata": {},
     "output_type": "execute_result"
    }
   ],
   "source": [
    "conn = sqlite3.connect(\"./data/Project3.db\")\n",
    "cur = conn.cursor()\n",
    "cur.execute(\"SELECT DISTINCT Year FROM Employ ORDER BY year\")\n",
    "results=cur.fetchall()\n",
    "year_list=[]\n",
    "for result in results:\n",
    "    year_list.append(result[0])\n",
    "    \n",
    "year_list"
   ]
  },
  {
   "cell_type": "markdown",
   "metadata": {},
   "source": [
    "/bubble_graph"
   ]
  },
  {
   "cell_type": "code",
   "execution_count": 9,
   "metadata": {},
   "outputs": [
    {
     "data": {
      "text/plain": [
       "{'year': '1950',\n",
       " 'industry_sid': '1',\n",
       " 'median_age': '39',\n",
       " 'jobs_number': '20956',\n",
       " 'median_income': '950'}"
      ]
     },
     "execution_count": 9,
     "metadata": {},
     "output_type": "execute_result"
    }
   ],
   "source": [
    "conn = sqlite3.connect(\"./data/Project3.db\")\n",
    "cur = conn.cursor()\n",
    "cur.execute(\"SELECT Income.Year, Income.Ind, Age.Age, Income.obs, Income.Income FROM Income , Age WHERE Age.ind=Income.ind AND Age.Year=Income.Year;\")\n",
    "results=cur.fetchall()\n",
    "bubble_group=[]\n",
    "for result in results:\n",
    "    bubble_group.append(dict(year=result[0],industry_sid=result[1],median_age=result[2],jobs_number=result[3],median_income=result[4]))\n",
    "\n",
    "bubble_group[0]\n"
   ]
  },
  {
   "cell_type": "markdown",
   "metadata": {},
   "source": [
    "/chloropleth"
   ]
  },
  {
   "cell_type": "code",
   "execution_count": 10,
   "metadata": {},
   "outputs": [],
   "source": [
    "# conn = sqlite3.connect(\"./data/Project3.db\")\n",
    "# cur = conn.cursor()"
   ]
  },
  {
   "cell_type": "markdown",
   "metadata": {},
   "source": [
    "/education_data"
   ]
  },
  {
   "cell_type": "code",
   "execution_count": 86,
   "metadata": {},
   "outputs": [],
   "source": [
    "industry_key={ \"1\": \"Agriculture\",\n",
    "                \"2\": \"Manufacturing\",\n",
    "                \"3\": \"Business & Repair Services\",\n",
    "                \"4\" : \"Professional & Related Services\",\n",
    "                \"5\": \"Public Administration\"}\n",
    "\n",
    "\n",
    "education_key={ \"0\": \"N/A or No Schooling\",\n",
    "                \"1\": \"Elementary, Middle, and/or High School\",\n",
    "                \"2\": \"College\",\n",
    "                \"3\": \"Graduate Degree\"}"
   ]
  },
  {
   "cell_type": "code",
   "execution_count": 156,
   "metadata": {},
   "outputs": [
    {
     "data": {
      "text/plain": [
       "[{'industry': 'Agriculture',\n",
       "  'education': [{'education_level': 'N/A or No Schooling',\n",
       "    'number_employed': '71060'},\n",
       "   {'education_level': 'Elementary, Middle, and/or High School',\n",
       "    'number_employed': '19361'},\n",
       "   {'education_level': 'College', 'number_employed': '874'},\n",
       "   {'education_level': 'Graduate Degree', 'number_employed': '119'}]},\n",
       " {'industry': 'Manufacturing',\n",
       "  'education': [{'education_level': 'N/A or No Schooling',\n",
       "    'number_employed': '134518'},\n",
       "   {'education_level': 'Elementary, Middle, and/or High School',\n",
       "    'number_employed': '41402'},\n",
       "   {'education_level': 'College', 'number_employed': '4195'},\n",
       "   {'education_level': 'Graduate Degree', 'number_employed': '500'}]},\n",
       " {'industry': 'Business & Repair Services',\n",
       "  'education': [{'education_level': 'N/A or No Schooling',\n",
       "    'number_employed': '39594'},\n",
       "   {'education_level': 'Elementary, Middle, and/or High School',\n",
       "    'number_employed': '13797'},\n",
       "   {'education_level': 'College', 'number_employed': '1254'},\n",
       "   {'education_level': 'Graduate Degree', 'number_employed': '119'}]},\n",
       " {'industry': 'Professional & Related Services',\n",
       "  'education': [{'education_level': 'N/A or No Schooling',\n",
       "    'number_employed': '31516'},\n",
       "   {'education_level': 'Elementary, Middle, and/or High School',\n",
       "    'number_employed': '6420'},\n",
       "   {'education_level': 'College', 'number_employed': '5651'},\n",
       "   {'education_level': 'Graduate Degree', 'number_employed': '2872'}]},\n",
       " {'industry': 'Public Administration',\n",
       "  'education': [{'education_level': 'N/A or No Schooling',\n",
       "    'number_employed': '19160'},\n",
       "   {'education_level': 'Elementary, Middle, and/or High School',\n",
       "    'number_employed': '7144'},\n",
       "   {'education_level': 'College', 'number_employed': '1901'},\n",
       "   {'education_level': 'Graduate Degree', 'number_employed': '362'}]}]"
      ]
     },
     "execution_count": 156,
     "metadata": {},
     "output_type": "execute_result"
    }
   ],
   "source": [
    "year=1950\n",
    "conn = sqlite3.connect(\"./data/Project3.db\")\n",
    "cur = conn.cursor()\n",
    "cur.execute(f\"SELECT DISTINCT Ind FROM Education\")\n",
    "results=cur.fetchall()\n",
    "bar_group=[]\n",
    "industry_sid=[]\n",
    "for result in results:\n",
    "    industry_sid.append(dict(industry=result[0]))\n",
    "\n",
    "for row in industry_sid:\n",
    "    cur = conn.cursor()\n",
    "    ind_sid=row['industry']\n",
    "    cur.execute(f\"SELECT Obs, Education FROM Education WHERE Year={year} AND Ind='{ind_sid}';\")\n",
    "    results2=cur.fetchall()\n",
    "    bar_group.append(dict(industry=industry_key[ind_sid],education=[{'education_level':education_key[results2[0][1]],\n",
    "                                                                       'number_employed':results2[0][0]},\n",
    "                                                                     {'education_level':education_key[results2[1][1]],\n",
    "                                                                       'number_employed':results2[1][0]},\n",
    "                                                                     {'education_level':education_key[results2[2][1]],\n",
    "                                                                       'number_employed':results2[2][0]},\n",
    "                                                                     {'education_level':education_key[results2[3][1]],\n",
    "                                                                       'number_employed':results2[3][0]}]))\n",
    "\n",
    "\n",
    "bar_group"
   ]
  },
  {
   "cell_type": "code",
   "execution_count": 101,
   "metadata": {},
   "outputs": [
    {
     "data": {
      "text/plain": [
       "True"
      ]
     },
     "execution_count": 101,
     "metadata": {},
     "output_type": "execute_result"
    }
   ],
   "source": [
    "test[0]['industry']=='Agriculture'"
   ]
  },
  {
   "cell_type": "code",
   "execution_count": 14,
   "metadata": {},
   "outputs": [],
   "source": [
    "conn = sqlite3.connect(\"./data/Project3.db\")\n",
    "cur = conn.cursor()\n",
    "cur.execute(\"SELECT Obs, sex FROM allsex WHERE Year='1950' AND Ind='1';\")\n",
    "results=cur.fetchall()"
   ]
  },
  {
   "cell_type": "code",
   "execution_count": 31,
   "metadata": {},
   "outputs": [],
   "source": [
    "gender_group={ str(results[0][1]) : results[0][0],str(results[1][1]) : results[1][0]}"
   ]
  },
  {
   "cell_type": "code",
   "execution_count": 32,
   "metadata": {},
   "outputs": [
    {
     "data": {
      "text/plain": [
       "{'F': '9671', 'M': '81743'}"
      ]
     },
     "execution_count": 32,
     "metadata": {},
     "output_type": "execute_result"
    }
   ],
   "source": [
    "gender_group"
   ]
  },
  {
   "cell_type": "code",
   "execution_count": 33,
   "metadata": {},
   "outputs": [],
   "source": [
    "year=\"1950\"\n",
    "industry_sid='1'"
   ]
  },
  {
   "cell_type": "code",
   "execution_count": 34,
   "metadata": {},
   "outputs": [],
   "source": [
    "state_dict={ \"1\":\"Alabama\",\n",
    "            \"2\":\"Alaska\",\n",
    "            \"4\":\"Arizona\",\n",
    "            \"5\":\"Arkansas\",\n",
    "            \"6\":\"California\",\n",
    "            \"8\":\"Colorado\",\n",
    "            \"9\":\"Connecticut\",\n",
    "            \"10\":\"Delaware\",\n",
    "            \"12\":\"Florida\",\n",
    "            \"13\":\"Georgia\",\n",
    "            \"15\":\"Hawaii\",\n",
    "            \"16\":\"Idaho\",\n",
    "            \"17\":\"Illinois\",\n",
    "            \"18\":\"Indiana\",\n",
    "            \"19\":\"Iowa\",\n",
    "            \"20\":\"Kansas\",\n",
    "            \"21\":\"Kentucky\",\n",
    "            \"22\":\"Loisana\",\n",
    "            \"23\":\"Maine\",\n",
    "            \"24\":\"Maryland\",\n",
    "            \"25\":\"Massachusetts\",\n",
    "            \"26\":\"Michigan\",\n",
    "            \"27\":\"Minnesota\",\n",
    "            \"28\":\"Mississippi\",\n",
    "            \"29\":\"Missouri\",\n",
    "            \"30\":\"Montana\",\n",
    "            \"31\":\"Nebraska\",\n",
    "            \"32\":\"Nevada\",\n",
    "            \"33\":\"New Hampshire\",\n",
    "            \"34\":\"New Jersey\",\n",
    "            \"35\":\"New Mexico\",\n",
    "            \"36\":\"New York\",\n",
    "            \"37\":\"North Carolina\",\n",
    "            \"38\":\"North Dakota\",\n",
    "            \"39\":\"Ohio\",\n",
    "            \"40\":\"Oklahoma\",\n",
    "            \"41\":\"Oregon\",\n",
    "            \"42\":\"Pennsylvania\",\n",
    "            \"44\":\"Rhode Island\",\n",
    "            \"45\":\"South Carolina\",\n",
    "            \"46\":\"South Dakota\",\n",
    "            \"47\":\"Tennessee\",\n",
    "            \"48\":\"Texas\",\n",
    "            \"49\":\"Utah\",\n",
    "            \"50\":\"Vermont\",\n",
    "            \"51\":\"Virginia\",\n",
    "            \"53\":\"Washington\",\n",
    "            \"54\":\"West Virginia\",\n",
    "            \"55\":\"Wisconsin\",\n",
    "            \"56\":\"Wyoming\" }"
   ]
  },
  {
   "cell_type": "code",
   "execution_count": 35,
   "metadata": {},
   "outputs": [],
   "source": [
    "conn = sqlite3.connect(\"./data/Project3.db\")\n",
    "cur = conn.cursor()\n",
    "cur.execute(f\"SELECT obs, state FROM XState WHERE year='{year}' AND industry='{industry_sid}';\")\n",
    "results=cur.fetchall()\n",
    "states_group=[]\n",
    "for result in results:\n",
    "    states_group.append(dict(jobs=result[0],state=state_dict[result[1]]))"
   ]
  },
  {
   "cell_type": "code",
   "execution_count": 36,
   "metadata": {},
   "outputs": [
    {
     "data": {
      "text/plain": [
       "[{'jobs': '9288', 'state': 'Alabama'},\n",
       " {'jobs': '22059', 'state': 'Florida'},\n",
       " {'jobs': '8232', 'state': 'Loisana'},\n",
       " {'jobs': '15667', 'state': 'Nebraska'},\n",
       " {'jobs': '10591', 'state': 'Oklahoma'},\n",
       " {'jobs': '2438', 'state': 'Vermont'}]"
      ]
     },
     "execution_count": 36,
     "metadata": {},
     "output_type": "execute_result"
    }
   ],
   "source": [
    "states_group"
   ]
  },
  {
   "cell_type": "code",
   "execution_count": 42,
   "metadata": {},
   "outputs": [],
   "source": [
    "race_key={  \"1\": \"White\",\n",
    "            \"2\": \"Black/African American\",\n",
    "            \"3\": \"American Indian or Alaska Native\",\n",
    "            \"4\": \"Asian or Pacific Islander\",\n",
    "            \"5\": \"Other race\",\n",
    "            \"6\": \"Two or more races\",\n",
    "            }"
   ]
  },
  {
   "cell_type": "code",
   "execution_count": 40,
   "metadata": {},
   "outputs": [],
   "source": [
    "conn = sqlite3.connect(\"./data/Project3.db\")\n",
    "cur = conn.cursor()\n",
    "cur.execute(f\"SELECT Obs, race FROM all_race WHERE Year='{year}' AND Ind='{industry_sid}';\")\n",
    "results=cur.fetchall()\n"
   ]
  },
  {
   "cell_type": "code",
   "execution_count": 41,
   "metadata": {},
   "outputs": [
    {
     "data": {
      "text/plain": [
       "[('73795', '1'), ('16472', '2'), ('594', '3'), ('392', '4'), ('161', '5')]"
      ]
     },
     "execution_count": 41,
     "metadata": {},
     "output_type": "execute_result"
    }
   ],
   "source": [
    "results"
   ]
  },
  {
   "cell_type": "code",
   "execution_count": 43,
   "metadata": {},
   "outputs": [],
   "source": [
    "race_dict={}\n",
    "for result in results:\n",
    "    race_dict.update( { race_key[result[1]] : result[0]} )"
   ]
  },
  {
   "cell_type": "code",
   "execution_count": 52,
   "metadata": {},
   "outputs": [],
   "source": [
    "year=1950"
   ]
  },
  {
   "cell_type": "code",
   "execution_count": 53,
   "metadata": {},
   "outputs": [],
   "source": [
    "conn = sqlite3.connect(\"./data/Project3.db\")\n",
    "cur = conn.cursor()\n",
    "cur.execute(f\"SELECT Obs, race FROM all_race WHERE Year='{year}' AND Ind='{industry_sid}';\")\n",
    "results=cur.fetchall()\n",
    "race_dict={}\n",
    "        \n",
    "for result in results:\n",
    "    race_dict.update( { race_key[result[1]] : int(result[0])} )\n",
    "if not results:\n",
    "    race_dict={\n",
    "        'White': 1000,\n",
    "        'Black/African American': 1000,\n",
    "        'American Indian or Alaska Native': 1000,\n",
    "        'Asian or Pacific Islander': 1000,\n",
    "        'Other race': 1000}"
   ]
  },
  {
   "cell_type": "code",
   "execution_count": 54,
   "metadata": {},
   "outputs": [
    {
     "data": {
      "text/plain": [
       "{'White': 73795,\n",
       " 'Black/African American': 16472,\n",
       " 'American Indian or Alaska Native': 594,\n",
       " 'Asian or Pacific Islander': 392,\n",
       " 'Other race': 161}"
      ]
     },
     "execution_count": 54,
     "metadata": {},
     "output_type": "execute_result"
    }
   ],
   "source": [
    "race_dict"
   ]
  },
  {
   "cell_type": "code",
   "execution_count": 49,
   "metadata": {},
   "outputs": [
    {
     "data": {
      "text/plain": [
       "[]"
      ]
     },
     "execution_count": 49,
     "metadata": {},
     "output_type": "execute_result"
    }
   ],
   "source": [
    "results"
   ]
  },
  {
   "cell_type": "markdown",
   "metadata": {},
   "source": [
    "# Data shaping\n",
    "\n",
    "### Inflation Calculations\n",
    "\n",
    "These values are returned from https://westegg.com/inflation/\n",
    "\n"
   ]
  },
  {
   "cell_type": "code",
   "execution_count": 60,
   "metadata": {},
   "outputs": [],
   "source": [
    "inflation_dict= {\n",
    "      \"1950\" : 10.35, \n",
    "      \"1960\" : 8.41, \n",
    "      \"1970\" : 6.42, \n",
    "      \"1980\" : 3.02 , \n",
    "      \"1990\" : 1.90, \n",
    "      \"2000\" : 1.45, \n",
    "      \"2010\" : 1.16, \n",
    "      \"2015\" : 1.04, \n",
    "      \"2017\" : 1.00\n",
    "}\n",
    "\n",
    "def inflation_adjust(year, dollars):\n",
    "    return float(dollars)*inflation_dict[str(year)]"
   ]
  },
  {
   "cell_type": "code",
   "execution_count": 62,
   "metadata": {},
   "outputs": [
    {
     "data": {
      "text/plain": [
       "104.0"
      ]
     },
     "execution_count": 62,
     "metadata": {},
     "output_type": "execute_result"
    }
   ],
   "source": [
    "inflation_adjust(2015, 100)"
   ]
  },
  {
   "cell_type": "markdown",
   "metadata": {},
   "source": [
    "/income_kpi\n"
   ]
  },
  {
   "cell_type": "code",
   "execution_count": 202,
   "metadata": {},
   "outputs": [
    {
     "data": {
      "text/plain": [
       "'2050'"
      ]
     },
     "execution_count": 202,
     "metadata": {},
     "output_type": "execute_result"
    }
   ],
   "source": [
    "year=\"1950\"\n",
    "conn = sqlite3.connect(\"./data/Project3.db\")\n",
    "cur = conn.cursor()\n",
    "cur.execute(f\"SELECT income FROM Year_income WHERE Year='{year}';\")\n",
    "results=cur.fetchall()\n",
    "results[0][0]\n"
   ]
  },
  {
   "cell_type": "markdown",
   "metadata": {},
   "source": [
    "/employment_kpi\n"
   ]
  },
  {
   "cell_type": "code",
   "execution_count": 206,
   "metadata": {},
   "outputs": [
    {
     "name": "stdout",
     "output_type": "stream",
     "text": [
      "employed\n",
      "unemployed\n"
     ]
    }
   ],
   "source": [
    "employ_dict={\"1\": \"employed\",\n",
    "            \"2\":\"unemployed\"}\n",
    "\n",
    "conn = sqlite3.connect(\"./data/Project3.db\")\n",
    "cur = conn.cursor()\n",
    "cur.execute(f\"SELECT obs, employ FROM Year_employ WHERE Year='{year}';\")\n",
    "results=cur.fetchall()\n",
    "raw_emp={}\n",
    "for result in results:\n",
    "    dict_title=employ_dict[result[1]]\n",
    "    raw_emp.update( { dict_title : float(result[0])} )\n",
    "pct_results= { 'employed' : 100*raw_emp['employed'] /(raw_emp['employed']+raw_emp['unemployed']) ,\n",
    "             'unemployed' : 100*raw_emp['unemployed'] /(raw_emp['employed']+raw_emp['unemployed']) }\n"
   ]
  },
  {
   "cell_type": "markdown",
   "metadata": {},
   "source": [
    "/employment_by_indus_kpi"
   ]
  },
  {
   "cell_type": "code",
   "execution_count": 207,
   "metadata": {},
   "outputs": [],
   "source": [
    "industry_sid=\"1\"\n",
    "conn = sqlite3.connect(\"./data/Project3.db\")\n",
    "cur = conn.cursor()\n",
    "cur.execute(f\"SELECT obs, employ FROM employ WHERE Year='{year}' AND Ind='{industry_sid}';\")\n",
    "results=cur.fetchall()\n",
    "raw_emp={}\n",
    "for result in results:\n",
    "    dict_title=employ_dict[result[1]]\n",
    "    raw_emp.update( { dict_title : float(result[0])} )\n",
    "pct_results= { 'employed' : 100*raw_emp['employed'] /(raw_emp['employed']+raw_emp['unemployed']) ,\n",
    "             'unemployed' : 100*raw_emp['unemployed'] /(raw_emp['employed']+raw_emp['unemployed']) }"
   ]
  },
  {
   "cell_type": "code",
   "execution_count": 208,
   "metadata": {},
   "outputs": [
    {
     "data": {
      "text/plain": [
       "{'employed': 97.91837976052356, 'unemployed': 2.081620239476441}"
      ]
     },
     "execution_count": 208,
     "metadata": {},
     "output_type": "execute_result"
    }
   ],
   "source": [
    "pct_results"
   ]
  },
  {
   "cell_type": "code",
   "execution_count": 216,
   "metadata": {},
   "outputs": [
    {
     "data": {
      "text/plain": [
       "51.00360576923077"
      ]
     },
     "execution_count": 216,
     "metadata": {},
     "output_type": "execute_result"
    }
   ],
   "source": [
    "    cur = conn.cursor()\n",
    "    cur.execute(f\"SELECT income , year FROM Year_income;\")\n",
    "    results=cur.fetchall()\n",
    "    income_list=[]\n",
    "    for result in results:\n",
    "        income_list.append(float(result[0])*inflation_dict[result[1]])\n",
    "    income_list.sort(reverse=True)\n",
    "    conn = sqlite3.connect(\"./data/Project3.db\")\n",
    "    cur = conn.cursor()\n",
    "    cur.execute(f\"SELECT income FROM Year_income WHERE Year='{year}';\")\n",
    "    results=cur.fetchall()\n",
    "    income=100*float(results[0][0])*inflation_dict[str(year)]/income_list[0]\n",
    "\n",
    "income\n"
   ]
  },
  {
   "cell_type": "markdown",
   "metadata": {},
   "source": [
    "# summary"
   ]
  },
  {
   "cell_type": "code",
   "execution_count": 251,
   "metadata": {},
   "outputs": [
    {
     "name": "stdout",
     "output_type": "stream",
     "text": [
      "{'employed': 86929.0, 'unemployed': 1848.0} 2015\n",
      "{'employed': 173175.0, 'unemployed': 7400.0} 2015\n",
      "{'employed': 52265.0, 'unemployed': 2423.0} 2015\n",
      "{'employed': 45671.0, 'unemployed': 731.0} 2015\n",
      "{'employed': 27534.0, 'unemployed': 1033.0} 2015\n",
      "{'employed': 202459.0, 'unemployed': 7281.0} 2015\n",
      "{'employed': 856566.0, 'unemployed': 49582.0} 2015\n",
      "{'employed': 258358.0, 'unemployed': 12998.0} 2015\n",
      "{'employed': 372418.0, 'unemployed': 6615.0} 2015\n",
      "{'employed': 215968.0, 'unemployed': 3910.0} 2015\n",
      "{'employed': 25316.0, 'unemployed': 874.0} 2015\n",
      "{'employed': 184145.0, 'unemployed': 8909.0} 2015\n",
      "{'employed': 50459.0, 'unemployed': 2186.0} 2015\n",
      "{'employed': 128452.0, 'unemployed': 2481.0} 2015\n",
      "{'employed': 33007.0, 'unemployed': 923.0} 2015\n",
      "{'employed': 139301.0, 'unemployed': 9000.0} 2015\n",
      "{'employed': 1082284.0, 'unemployed': 79641.0} 2015\n",
      "{'employed': 198260.0, 'unemployed': 12939.0} 2015\n",
      "{'employed': 975879.0, 'unemployed': 28261.0} 2015\n",
      "{'employed': 254398.0, 'unemployed': 10045.0} 2015\n",
      "{'employed': 177245.0, 'unemployed': 13643.0} 2015\n",
      "{'employed': 1030390.0, 'unemployed': 63585.0} 2015\n",
      "{'employed': 263601.0, 'unemployed': 20714.0} 2015\n",
      "{'employed': 1298142.0, 'unemployed': 37224.0} 2015\n",
      "{'employed': 271880.0, 'unemployed': 7531.0} 2015\n",
      "{'employed': 126887.0, 'unemployed': 9275.0} 2015\n",
      "{'employed': 920325.0, 'unemployed': 45316.0} 2015\n",
      "{'employed': 185547.0, 'unemployed': 8759.0} 2015\n",
      "{'employed': 559022.0, 'unemployed': 33006.0} 2015\n",
      "{'employed': 308883.0, 'unemployed': 7582.0} 2015\n",
      "{'employed': 22699.0, 'unemployed': 2151.0} 2015\n",
      "{'employed': 146073.0, 'unemployed': 17519.0} 2015\n",
      "{'employed': 38366.0, 'unemployed': 3338.0} 2015\n",
      "{'employed': 141434.0, 'unemployed': 16580.0} 2015\n",
      "{'employed': 74118.0, 'unemployed': 3314.0} 2015\n",
      "{} 2015\n",
      "{'employed': 151449.0, 'unemployed': 6367.0} 2015\n",
      "{'employed': 39278.0, 'unemployed': 1834.0} 2015\n",
      "{'employed': 159848.0, 'unemployed': 9804.0} 2015\n",
      "{'employed': 69360.0, 'unemployed': 1527.0} 2015\n",
      "{'employed': 21725.0, 'unemployed': 1199.0} 2015\n",
      "{'employed': 153015.0, 'unemployed': 5368.0} 2015\n",
      "{'employed': 40702.0, 'unemployed': 1617.0} 2015\n",
      "{'employed': 169177.0, 'unemployed': 8708.0} 2015\n",
      "{'employed': 71803.0, 'unemployed': 1370.0} 2015\n"
     ]
    }
   ],
   "source": [
    "industry_sid=\"1\"\n",
    "\n",
    "yearrange= [\"1950\" , \"1960\" , \"1970\" , \"1980\" , \"1990\" , \"2000\" , \"2010\" , \"2015\" , \"2017\"]\n",
    "industry_range= [ \"1\" , \"2\", \"3\", \"4\" , \"5\"]\n",
    "summary_results=[]\n",
    "for yr in yearrange:\n",
    "    for industry_id in industry_range:\n",
    "        conn = sqlite3.connect(\"./data/Project3.db\")\n",
    "        cur = conn.cursor()\n",
    "        cur.execute(f\"SELECT obs, employ FROM Employ WHERE Year='{yr}' AND Ind='{industry_id}';\")\n",
    "        results=cur.fetchall()\n",
    "        raw_emp={}\n",
    "        for result in results:\n",
    "            dict_title=employ_dict[result[1]]\n",
    "            raw_emp.update( { dict_title : float(result[0])} )\n",
    "        print(raw_emp, year)\n",
    "        try:\n",
    "            pct_results= { 'employment_rate' : 100*raw_emp['employed'] /(raw_emp['employed']+raw_emp['unemployed']) , \n",
    "                      'year' : year, \n",
    "                      \"Industry\" : industry_key[industry_sid]\n",
    "                     }\n",
    "        except:\n",
    "            pct_results= { 'employment_rate' : 100 , \n",
    "                      'year' : year, \n",
    "                      \"Industry\" : industry_key[industry_sid]\n",
    "                     }\n",
    "        summary_results.append(pct_results)"
   ]
  },
  {
   "cell_type": "code",
   "execution_count": 252,
   "metadata": {},
   "outputs": [
    {
     "data": {
      "text/plain": [
       "[{'employment_rate': 97.91837976052356,\n",
       "  'year': '2015',\n",
       "  'Industry': 'Agriculture'},\n",
       " {'employment_rate': 95.9019797867922,\n",
       "  'year': '2015',\n",
       "  'Industry': 'Agriculture'},\n",
       " {'employment_rate': 95.56941193680515,\n",
       "  'year': '2015',\n",
       "  'Industry': 'Agriculture'},\n",
       " {'employment_rate': 98.42463686910047,\n",
       "  'year': '2015',\n",
       "  'Industry': 'Agriculture'},\n",
       " {'employment_rate': 96.38393951062415,\n",
       "  'year': '2015',\n",
       "  'Industry': 'Agriculture'},\n",
       " {'employment_rate': 96.52855916849433,\n",
       "  'year': '2015',\n",
       "  'Industry': 'Agriculture'},\n",
       " {'employment_rate': 94.5282669056269,\n",
       "  'year': '2015',\n",
       "  'Industry': 'Agriculture'},\n",
       " {'employment_rate': 95.20998245846785,\n",
       "  'year': '2015',\n",
       "  'Industry': 'Agriculture'},\n",
       " {'employment_rate': 98.25476937364293,\n",
       "  'year': '2015',\n",
       "  'Industry': 'Agriculture'},\n",
       " {'employment_rate': 98.22174114736353,\n",
       "  'year': '2015',\n",
       "  'Industry': 'Agriculture'},\n",
       " {'employment_rate': 96.66284841542573,\n",
       "  'year': '2015',\n",
       "  'Industry': 'Agriculture'},\n",
       " {'employment_rate': 95.38522900328405,\n",
       "  'year': '2015',\n",
       "  'Industry': 'Agriculture'},\n",
       " {'employment_rate': 95.84765884699402,\n",
       "  'year': '2015',\n",
       "  'Industry': 'Agriculture'},\n",
       " {'employment_rate': 98.10513774220402,\n",
       "  'year': '2015',\n",
       "  'Industry': 'Agriculture'},\n",
       " {'employment_rate': 97.27969348659003,\n",
       "  'year': '2015',\n",
       "  'Industry': 'Agriculture'},\n",
       " {'employment_rate': 93.93126142102885,\n",
       "  'year': '2015',\n",
       "  'Industry': 'Agriculture'},\n",
       " {'employment_rate': 93.14577102652925,\n",
       "  'year': '2015',\n",
       "  'Industry': 'Agriculture'},\n",
       " {'employment_rate': 93.87355053764459,\n",
       "  'year': '2015',\n",
       "  'Industry': 'Agriculture'},\n",
       " {'employment_rate': 97.18555181548389,\n",
       "  'year': '2015',\n",
       "  'Industry': 'Agriculture'},\n",
       " {'employment_rate': 96.20144983985206,\n",
       "  'year': '2015',\n",
       "  'Industry': 'Agriculture'},\n",
       " {'employment_rate': 92.85287707975357,\n",
       "  'year': '2015',\n",
       "  'Industry': 'Agriculture'},\n",
       " {'employment_rate': 94.18770995680889,\n",
       "  'year': '2015',\n",
       "  'Industry': 'Agriculture'},\n",
       " {'employment_rate': 92.71441886639819,\n",
       "  'year': '2015',\n",
       "  'Industry': 'Agriculture'},\n",
       " {'employment_rate': 97.21244962055347,\n",
       "  'year': '2015',\n",
       "  'Industry': 'Agriculture'},\n",
       " {'employment_rate': 97.30468736019698,\n",
       "  'year': '2015',\n",
       "  'Industry': 'Agriculture'},\n",
       " {'employment_rate': 93.1882610419941,\n",
       "  'year': '2015',\n",
       "  'Industry': 'Agriculture'},\n",
       " {'employment_rate': 95.30715866455546,\n",
       "  'year': '2015',\n",
       "  'Industry': 'Agriculture'},\n",
       " {'employment_rate': 95.49216184780707,\n",
       "  'year': '2015',\n",
       "  'Industry': 'Agriculture'},\n",
       " {'employment_rate': 94.42492584810178,\n",
       "  'year': '2015',\n",
       "  'Industry': 'Agriculture'},\n",
       " {'employment_rate': 97.60415843774193,\n",
       "  'year': '2015',\n",
       "  'Industry': 'Agriculture'},\n",
       " {'employment_rate': 91.34406438631791,\n",
       "  'year': '2015',\n",
       "  'Industry': 'Agriculture'},\n",
       " {'employment_rate': 89.29104112670547,\n",
       "  'year': '2015',\n",
       "  'Industry': 'Agriculture'},\n",
       " {'employment_rate': 91.99597160943794,\n",
       "  'year': '2015',\n",
       "  'Industry': 'Agriculture'},\n",
       " {'employment_rate': 89.5072588504816,\n",
       "  'year': '2015',\n",
       "  'Industry': 'Agriculture'},\n",
       " {'employment_rate': 95.7201157144333,\n",
       "  'year': '2015',\n",
       "  'Industry': 'Agriculture'},\n",
       " {'employment_rate': 100, 'year': '2015', 'Industry': 'Agriculture'},\n",
       " {'employment_rate': 95.96555482333856,\n",
       "  'year': '2015',\n",
       "  'Industry': 'Agriculture'},\n",
       " {'employment_rate': 95.53901537264059,\n",
       "  'year': '2015',\n",
       "  'Industry': 'Agriculture'},\n",
       " {'employment_rate': 94.22111145167756,\n",
       "  'year': '2015',\n",
       "  'Industry': 'Agriculture'},\n",
       " {'employment_rate': 97.84586736637183,\n",
       "  'year': '2015',\n",
       "  'Industry': 'Agriculture'},\n",
       " {'employment_rate': 94.76967370441459,\n",
       "  'year': '2015',\n",
       "  'Industry': 'Agriculture'},\n",
       " {'employment_rate': 96.61074736556323,\n",
       "  'year': '2015',\n",
       "  'Industry': 'Agriculture'},\n",
       " {'employment_rate': 96.17902124341312,\n",
       "  'year': '2015',\n",
       "  'Industry': 'Agriculture'},\n",
       " {'employment_rate': 95.10470247631898,\n",
       "  'year': '2015',\n",
       "  'Industry': 'Agriculture'},\n",
       " {'employment_rate': 98.12772470720074,\n",
       "  'year': '2015',\n",
       "  'Industry': 'Agriculture'}]"
      ]
     },
     "execution_count": 252,
     "metadata": {},
     "output_type": "execute_result"
    }
   ],
   "source": [
    "summary_results"
   ]
  },
  {
   "cell_type": "code",
   "execution_count": 230,
   "metadata": {},
   "outputs": [
    {
     "data": {
      "text/plain": [
       "{'employment_rate': 97.91837976052356,\n",
       " 'year': '1950',\n",
       " 'Industry': 'Agriculture'}"
      ]
     },
     "execution_count": 230,
     "metadata": {},
     "output_type": "execute_result"
    }
   ],
   "source": [
    "pct_results"
   ]
  },
  {
   "cell_type": "code",
   "execution_count": 232,
   "metadata": {},
   "outputs": [
    {
     "data": {
      "text/plain": [
       "{'1': 'employed', '2': 'unemployed'}"
      ]
     },
     "execution_count": 232,
     "metadata": {},
     "output_type": "execute_result"
    }
   ],
   "source": [
    "employ_dict"
   ]
  },
  {
   "cell_type": "code",
   "execution_count": 237,
   "metadata": {},
   "outputs": [
    {
     "data": {
      "text/plain": [
       "[('69360', '1'), ('1527', '2')]"
      ]
     },
     "execution_count": 237,
     "metadata": {},
     "output_type": "execute_result"
    }
   ],
   "source": [
    "results"
   ]
  },
  {
   "cell_type": "code",
   "execution_count": 242,
   "metadata": {},
   "outputs": [
    {
     "data": {
      "text/plain": [
       "{}"
      ]
     },
     "execution_count": 242,
     "metadata": {},
     "output_type": "execute_result"
    }
   ],
   "source": [
    "raw_emp"
   ]
  },
  {
   "cell_type": "markdown",
   "metadata": {},
   "source": [
    "# DB Update command:\n",
    "\n",
    "Ran on DB directly\n",
    "\n",
    "INSERT INTO allrace (race,Year,obs,pert_pp_race_year,ind)\n",
    "VALUES\n",
    "(1,1950,165214,3.048527448,2),\n",
    "(1,1960,1059265,19.54554957,2),\n",
    "(1,1970,219574,4.051577747,2),\n",
    "(1,1980,1155309,21.31775272,2),\n",
    "(1,1990,1069649,19.73715506,2),\n",
    "(1,2000,905974,16.71702523,2),\n",
    "(1,2010,152660,2.816881137,2),\n",
    "(2,1950,14999,0.276761432,2),\n",
    "(2,1960,74381,1.372477636,2),\n",
    "(2,1970,20273,0.374077239,2),\n",
    "(2,1980,142077,2.621603703,2),\n",
    "(2,1990,115945,2.139416242,2),\n",
    "(2,2000,114059,2.104615784,2),\n",
    "(2,2010,15816,0.291836709,2),\n",
    "(3,1950,192,0.003542783,2),\n",
    "(3,1960,1422,0.026238733,2),\n",
    "(3,1970,588,0.010849771,2),\n",
    "(3,1980,6833,0.126082463,2),\n",
    "(3,1990,26,0.000479752,2),\n",
    "(3,2000,8356,0.154184847,2),\n",
    "(3,2010,1164,0.021478119,2),\n",
    "(4,1950,185,0.003413619,2),\n",
    "(4,1960,3783,0.069803887,2),\n",
    "(4,1970,1187,0.021902515,2),\n",
    "(4,1980,18519,0.341712445,2),\n",
    "(4,1990,31502,0.58127466,2),\n",
    "(4,2000,46878,0.864992493,2),\n",
    "(4,2010,1743,0.032161822,2),\n",
    "(5,1950,25,0.0004613,2),\n",
    "(5,1960,656,0.012104507,2),\n",
    "(5,1970,250,0.004612998,2),\n",
    "(5,1980,4665,0.086078544,2),\n",
    "(5,1990,51937,0.958341122,2),\n",
    "(5,2000,40,0.00073808,2),\n",
    "(5,2010,7168,0.13226388,2),\n",
    "(6,1980,2441,0.045041313,2),\n",
    "(6,1990,4025,0.074269269,2),\n",
    "(6,2000,573,0.010572992,2),\n",
    "(6,2010,116,0.002140431,2);"
   ]
  },
  {
   "cell_type": "code",
   "execution_count": null,
   "metadata": {},
   "outputs": [],
   "source": []
  }
 ],
 "metadata": {
  "kernelspec": {
   "display_name": "Python 3",
   "language": "python",
   "name": "python3"
  },
  "language_info": {
   "codemirror_mode": {
    "name": "ipython",
    "version": 3
   },
   "file_extension": ".py",
   "mimetype": "text/x-python",
   "name": "python",
   "nbconvert_exporter": "python",
   "pygments_lexer": "ipython3",
   "version": "3.7.2"
  }
 },
 "nbformat": 4,
 "nbformat_minor": 2
}
